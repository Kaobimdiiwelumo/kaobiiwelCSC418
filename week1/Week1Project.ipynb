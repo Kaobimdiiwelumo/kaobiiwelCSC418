{
 "cells": [
  {
   "cell_type": "code",
   "execution_count": 1,
   "metadata": {},
   "outputs": [],
   "source": [
    "import cv2\n",
    "import numpy as np"
   ]
  },
  {
   "cell_type": "code",
   "execution_count": 2,
   "metadata": {},
   "outputs": [],
   "source": [
    "def main():\n",
    "    # Dictionary mapping usernames to corresponding surnames and image paths\n",
    "    user_images = {\n",
    "        'Adaora': ('Onaga', '/Users/HP1030G2/Documents/CSC418/kaobiiwelCSC418/img/Adaora .jpeg'),\n",
    "        'Chris': ('Ogbechie', '/Users/HP1030G2/Documents/CSC418/kaobiiwelCSC418/img/Chris Ogbechie.jpeg'),\n",
    "        'Darlington': ('Agholor', '/Users/HP1030G2/Documents/CSC418/kaobiiwelCSC418/img/Darlington Agholor.jpeg'),\n",
    "        'Enase': ('Okonedo', '/Users/HP1030G2/Documents/CSC418/kaobiiwelCSC418/img/Enase Okonedo.jpeg'),\n",
    "        'Ikechukwu': ('Obiaya', '/Users/HP1030G2/Documents/CSC418/kaobiiwelCSC418/img/Ikechukwu Obiaya.jpeg'),\n",
    "        'Ikechukwu': ('Ogbuike', '/Users/HP1030G2/Documents/CSC418/kaobiiwelCSC418/img/Ikechukwu Ogbuike.jpeg'),\n",
    "        'Kingsley': ('Ukaoha', '/Users/HP1030G2/Documents/CSC418/kaobiiwelCSC418/img/Kingsley.jpeg'),\n",
    "        'Nneka': ('Okekearu', '/Users/HP1030G2/Documents/CSC418/kaobiiwelCSC418/img/Nneka Okekearu.png'),\n",
    "        'Peter': ('Bamkole', '/Users/HP1030G2/Documents/CSC418/kaobiiwelCSC418/img/Peter Bamkole.jpeg'),\n",
    "        'Sola': ('Oni', '/Users/HP1030G2/Documents/CSC418/kaobiiwelCSC418/img/Sola Oni.jpeg')\n",
    "    }\n",
    "\n",
    "    username = input(\"Enter username (first name): \")\n",
    "    password = int(input(\"Enter password (sum of the number of alphabets of the surname): \"))\n",
    "\n",
    "    # Check if the entered username exists in the dictionary\n",
    "    if username in user_images:\n",
    "        # Get the corresponding surname and image path for the entered username\n",
    "        surname, image_path = user_images[username]\n",
    "        # Calculate the sum of the number of alphabets in the surname\n",
    "        expected_password = sum(ord(char.lower()) - ord('a') + 1 for char in surname if char.isalpha())\n",
    "\n",
    "\n",
    "        # Check if the entered password matches the expected password\n",
    "        if password == expected_password:\n",
    "            try:\n",
    "                # Read the image\n",
    "                img = cv2.imread(image_path)\n",
    "                if img is None:\n",
    "                    print(\"Error: Unable to read image file.\")\n",
    "                else:\n",
    "                    # Display the image\n",
    "                    window_name = f'{username} {surname}'\n",
    "                    cv2.imshow(window_name, img)\n",
    "                    cv2.waitKey(15000)\n",
    "                    cv2.destroyAllWindows() \n",
    "            except Exception as e:\n",
    "                print('Error:', e)\n",
    "        else:\n",
    "            print(\"Authentication failed. Invalid password.\")\n",
    "    else:\n",
    "        print(\"Authentication failed. User not found.\")\n",
    "\n"
   ]
  },
  {
   "cell_type": "code",
   "execution_count": 3,
   "metadata": {},
   "outputs": [],
   "source": [
    "if __name__ == \"__main__\":\n",
    "    main()\n"
   ]
  }
 ],
 "metadata": {
  "kernelspec": {
   "display_name": "Python 3",
   "language": "python",
   "name": "python3"
  },
  "language_info": {
   "codemirror_mode": {
    "name": "ipython",
    "version": 3
   },
   "file_extension": ".py",
   "mimetype": "text/x-python",
   "name": "python",
   "nbconvert_exporter": "python",
   "pygments_lexer": "ipython3",
   "version": "3.11.6"
  },
  "orig_nbformat": 4
 },
 "nbformat": 4,
 "nbformat_minor": 2
}
